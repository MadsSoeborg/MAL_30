{
 "cells": [
  {
   "cell_type": "code",
   "execution_count": 1,
   "metadata": {},
   "outputs": [
    {
     "name": "stdout",
     "output_type": "stream",
     "text": [
      "       model  year  price transmission  mileage fuelType  tax   mpg  \\\n",
      "0   5 Series  2014  11200    Automatic    67068   Diesel  125  57.6   \n",
      "1   6 Series  2018  27000    Automatic    14827   Petrol  145  42.8   \n",
      "2   5 Series  2016  16000    Automatic    62794   Diesel  160  51.4   \n",
      "3   1 Series  2017  12750    Automatic    26676   Diesel  145  72.4   \n",
      "4   7 Series  2014  14500    Automatic    39554   Diesel  160  50.4   \n",
      "5   5 Series  2016  14900    Automatic    35309   Diesel  125  60.1   \n",
      "6   5 Series  2017  16000    Automatic    38538   Diesel  125  60.1   \n",
      "7   2 Series  2018  16250       Manual    10401   Petrol  145  52.3   \n",
      "8   4 Series  2017  14250       Manual    42668   Diesel   30  62.8   \n",
      "9   5 Series  2016  14250    Automatic    36099   Diesel   20  68.9   \n",
      "\n",
      "   engineSize  \n",
      "0         2.0  \n",
      "1         2.0  \n",
      "2         3.0  \n",
      "3         1.5  \n",
      "4         3.0  \n",
      "5         2.0  \n",
      "6         2.0  \n",
      "7         1.5  \n",
      "8         2.0  \n",
      "9         2.0  \n"
     ]
    }
   ],
   "source": [
    "import pandas as pd\n",
    "\n",
    "try: \n",
    "    bmw_data = pd.read_csv('./Data/bmw.csv')\n",
    "except FileNotFoundError:\n",
    "    print(\"File not found\")\n",
    "    exit(1)\n",
    "\n",
    "print(bmw_data.head(10))"
   ]
  },
  {
   "cell_type": "markdown",
   "metadata": {},
   "source": []
  },
  {
   "cell_type": "code",
   "execution_count": null,
   "metadata": {},
   "outputs": [],
   "source": []
  }
 ],
 "metadata": {
  "kernelspec": {
   "display_name": "base",
   "language": "python",
   "name": "python3"
  },
  "language_info": {
   "codemirror_mode": {
    "name": "ipython",
    "version": 3
   },
   "file_extension": ".py",
   "mimetype": "text/x-python",
   "name": "python",
   "nbconvert_exporter": "python",
   "pygments_lexer": "ipython3",
   "version": "3.12.7"
  }
 },
 "nbformat": 4,
 "nbformat_minor": 2
}
